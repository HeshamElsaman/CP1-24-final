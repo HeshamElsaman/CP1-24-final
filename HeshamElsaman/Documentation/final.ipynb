{
 "cells": [
  {
   "cell_type": "code",
   "execution_count": 1,
   "metadata": {},
   "outputs": [],
   "source": [
    "import sys\n",
    "import os\n",
    "import importlib\n",
    "import numpy as np\n",
    "import pandas as pd\n",
    "import matplotlib.pyplot as plt\n",
    "\n",
    "# Different Paths\n",
    "alg_path = \"/workspaces/CP1-24-final/HeshamElsaman/Code/Algorithm\"\n",
    "data_path = \"/workspaces/CP1-24-final/HeshamElsaman/Data/GPSSine\"\n",
    "sys.path.append(alg_path)\n",
    "sys.path.append(data_path)\n",
    "\n",
    "import final\n",
    "from mercator_projection_functions import xy_on_earth"
   ]
  },
  {
   "cell_type": "code",
   "execution_count": 2,
   "metadata": {},
   "outputs": [
    {
     "data": {
      "text/plain": [
       "<module 'final' from '/workspaces/CP1-24-final/HeshamElsaman/Code/Algorithm/final.py'>"
      ]
     },
     "execution_count": 2,
     "metadata": {},
     "output_type": "execute_result"
    }
   ],
   "source": [
    "# Reloading the final module in case of changes taking place\n",
    "importlib.reload(final)"
   ]
  },
  {
   "cell_type": "code",
   "execution_count": 6,
   "metadata": {},
   "outputs": [
    {
     "name": "stdout",
     "output_type": "stream",
     "text": [
      "['gs01_gps_sin', 'gs02_gps_sin', 'gs03_gps_sin', 'gs04_gps_sin', 'gs05_gps_sin', 'gs06_gps_sin', 'gs07_gps_sin', 'gs08_gps_sin', 'gs09_gps_sin', 'gs10_gps_sin', 'gs11_gps_sin', 'gs12_gps_sin', 'gs13_gps_sin', 'gs14_gps_sin', 'gs15_gps_sin', 'gs16_gps_sin', 'gs17_gps_sin', 'gs18_gps_sin', 'gs19_gps_sin']\n",
      "/workspaces/CP1-24-final/HeshamElsaman/Data/GPSSine/gs01_gps_sin\n"
     ]
    }
   ],
   "source": [
    "folders_list = sorted(final.list_folders(data_path, \"gps_sin\"))\n",
    "print(folders_list)\n",
    "folders_dirs = [data_path + \"/\" + i for i in folders_list]\n",
    "print(folders_dirs[0])"
   ]
  },
  {
   "cell_type": "code",
   "execution_count": null,
   "metadata": {},
   "outputs": [],
   "source": [
    "\n",
    "for i in folders_dirs:\n"
   ]
  }
 ],
 "metadata": {
  "kernelspec": {
   "display_name": ".venv",
   "language": "python",
   "name": "python3"
  },
  "language_info": {
   "codemirror_mode": {
    "name": "ipython",
    "version": 3
   },
   "file_extension": ".py",
   "mimetype": "text/x-python",
   "name": "python",
   "nbconvert_exporter": "python",
   "pygments_lexer": "ipython3",
   "version": "3.12.1"
  }
 },
 "nbformat": 4,
 "nbformat_minor": 2
}
